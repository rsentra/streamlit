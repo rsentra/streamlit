{
 "cells": [
  {
   "cell_type": "code",
   "execution_count": 1,
   "id": "4ea2d4a5-d298-45b6-9e62-3a3d4d5ec8a0",
   "metadata": {},
   "outputs": [
    {
     "name": "stderr",
     "output_type": "stream",
     "text": [
      "C:\\Users\\hkccloud01\\anaconda3\\lib\\site-packages\\numpy\\_distributor_init.py:30: UserWarning: loaded more than 1 DLL from .libs:\n",
      "C:\\Users\\hkccloud01\\anaconda3\\lib\\site-packages\\numpy\\.libs\\libopenblas.el2c6ple4zyw3eceviv3oxxgrn2nrfm2.gfortran-win_amd64.dll\n",
      "C:\\Users\\hkccloud01\\anaconda3\\lib\\site-packages\\numpy\\.libs\\libopenblas.FB5AE2TYXYH2IJRDKGDGQ3XBKLKTF43H.gfortran-win_amd64.dll\n",
      "C:\\Users\\hkccloud01\\anaconda3\\lib\\site-packages\\numpy\\.libs\\libopenblas64__v0.3.21-gcc_10_3_0.dll\n",
      "  warnings.warn(\"loaded more than 1 DLL from .libs:\"\n"
     ]
    }
   ],
   "source": [
    "import pandas as pd\n",
    "import cx_Oracle\n",
    "import datetime"
   ]
  },
  {
   "cell_type": "markdown",
   "id": "919f461c-bdad-4561-9027-11b7e6723b0d",
   "metadata": {},
   "source": [
    "### db"
   ]
  },
  {
   "cell_type": "code",
   "execution_count": 2,
   "id": "aa44d19e-4e56-4374-b7e4-63f5b270121d",
   "metadata": {},
   "outputs": [],
   "source": [
    "def get_conn_ora():\n",
    "    \n",
    "    username = \"DPKMAPP\"\n",
    "    password = \"Kms12#$\"\n",
    "    host = \"61.106.19.217\"\n",
    "    port = 33389\n",
    "    database = \"CDB1\"\n",
    "    dsn = f'{host}:{port}/{database}'\n",
    "    encoding = 'UTF-8'\n",
    "\n",
    "    # 오라클 클라이언트를 선언: windows 환경변수에 path를 잡으면 필요없음\n",
    "    try:\n",
    "        cx_Oracle.init_oracle_client(lib_dir=r\"C:\\oracle\\instantclient_21_12\")\n",
    "    except Exception as e:\n",
    "        pass\n",
    "\n",
    "    try:\n",
    "        connection = cx_Oracle.connect(username, password, dsn, encoding=encoding)\n",
    "    except Exception as ex:\n",
    "        print('Could not connect to database:', ex)\n",
    "        return ex\n",
    "\n",
    "    print(\"SUCCESS: Connecting database succeeded\")\n",
    "    return connection\n",
    "\n",
    "def get_kms_datadf(sql):\n",
    "    try:\n",
    "        connection = get_conn_ora()\n",
    "     \n",
    "        with connection.cursor() as cursor:\n",
    "            cursor.execute(sql)\n",
    "            rows = cursor.fetchall()\n",
    "            cols = [x[0].lower() for x in cursor.description]\n",
    "   \n",
    "        df = pd.DataFrame(rows, columns = cols)\n",
    "        for c in df.columns:\n",
    "            if df[c].dtype == object:\n",
    "                df[c] = df[c].astype(\"string\")\n",
    "\n",
    "        connection.close()\n",
    "\n",
    "    except Exception as ex:\n",
    "        err, = ex.args\n",
    "        print('error code :', err.code)\n",
    "        print('error message :', err.message)\n",
    "        return None\n",
    "   \n",
    "    if len(df) ==0:\n",
    "        print('No data found')  \n",
    "        return None\n",
    "    return df\n"
   ]
  },
  {
   "cell_type": "code",
   "execution_count": null,
   "id": "90c168cb-1887-441a-9217-d497ce1f37e5",
   "metadata": {},
   "outputs": [],
   "source": [
    "#컨텐츠 리스트\n",
    "ctgr_cd ='CA'\n",
    "temp = f\" AND CTGR_ID =   '{ctgr_cd}'\" if ctgr_cd !='CA' else  \" AND CTGR_ID = 'CA' \"\n",
    "sql = f\"\"\"\n",
    "        SELECT\n",
    "            AA.CNTNT_ID        \n",
    "            , AA.TITL \n",
    "            , (SELECT CD_NM FROM TBCTKC10 WHERE CD = AA.SAVE_STAT_CD AND GROUP_CD = 'SAVE_STAT_CD') AS CD_NM\n",
    "            , AA.CTGR_ID\n",
    "            , AA.CTGR_PATH\n",
    "            , AA.REG_DTTM\n",
    "            , AA.UPD_DTTM\n",
    "            , ((SELECT COUNT(FILE_KEY) FROM TBCTKK08 WHERE CNTNT_ID = AA.CNTNT_ID AND USE_YN='Y') +\n",
    "               (SELECT COUNT(FILE_KEY) FROM TBCTKK22 WHERE CNTNT_ID = AA.CNTNT_ID AND USE_YN='Y')) AS ATT_CNT\n",
    "            , (SELECT count(*) FROM TBCGPT10 G WHERE G.CNTNT_ID = AA.CNTNT_ID ) AS EMB_CNT\n",
    "            FROM (\n",
    "            SELECT A.CNTNT_ID\n",
    "                ,(CASE WHEN A.SAVE_STAT_CD = '00' THEN \n",
    "                            (SELECT \n",
    "                            (CASE WHEN COUNT(*) > 0 THEN 'Y' ELSE 'N' END) AS AUTH_YN\n",
    "                            FROM TBCTKC21 A\n",
    "                            INNER JOIN TBCTKC23 B\n",
    "                                ON  A.ATRT_GROUP_ID = B.ATRT_GROUP_ID\n",
    "                            WHERE A.ETC_INFO01 > '50') \n",
    "                    ELSE 'Y' END) AS VIEW_YN\n",
    "                , A.TITL\n",
    "                , A.CTGR_ID\n",
    "                , A.REG_DTTM\n",
    "                , A.UPD_DTTM\n",
    "                , BB.CTGR_PATH\n",
    "                , A.SAVE_STAT_CD\n",
    "            FROM TBCTKK01 A\n",
    "            INNER JOIN\n",
    "                (  SELECT  CTGR_ID\n",
    "                    , CTGR_NM\n",
    "                    , CTGR_PATH\n",
    "                    , CONNECT_BY_ISLEAF AS IS_LEAF\n",
    "                    FROM TBCTKK12\n",
    "                    START WITH USE_YN ='Y'\n",
    "                {temp}\n",
    "                CONNECT BY PRIOR CTGR_ID = HGRK_CTGR_ID AND USE_YN ='Y' ) BB\n",
    "            ON  A.CTGR_ID = BB.CTGR_ID\n",
    "            ) AA\n",
    "        WHERE AA.VIEW_YN='Y'\n",
    "        ORDER BY AA.CNTNT_ID desc\n",
    "    \"\"\"\n",
    "df = get_kms_datadf(sql)\n",
    "df['reg_dt'] = df['reg_dttm'].dt.date\n",
    "df['site']   = df['ctgr_path'].apply(lambda x: x.split('>')[1])\n",
    "df_a = df[df['cd_nm']!='삭제'].groupby(['reg_dt'])[['cntnt_id']].count().rename(columns={'cntnt_id':'reg_cnt'}).sort_index(ascending=False)"
   ]
  },
  {
   "cell_type": "code",
   "execution_count": null,
   "id": "3999e40c-00d5-42df-af4a-8f6c86d5dace",
   "metadata": {},
   "outputs": [],
   "source": [
    "from_dt = '20201219'\n",
    "to_dt = '20240119'\n",
    "#일자별 등록현황\n",
    "sql = f\"\"\"\n",
    "   SELECT  \tROW_NUMBER() OVER (ORDER BY A.INQ_CNT DESC)  AS ROW_NUMBER\n",
    "    , A.CNTNT_ID\n",
    "    , A.DT\n",
    "\t, A.TITL\n",
    "\t, A.INQ_CNT\n",
    "\t, A.CTGR_PATH\n",
    "\t, A.REG_DTTM\n",
    "\t, DPKMAPP.FNCTK_GET_USERNAME(A.REGR_ID, A.REGR_DEPT_CD, 'DEPT') AS REGR_NM\n",
    "FROM (\n",
    "\tSELECT   \n",
    "\t\t\t A.CNTNT_ID\n",
    "\t\t   , A.DT\n",
    "\t\t   , MAX(B.TITL)\t\t\t\t\t\t\tAS TITL\n",
    "\t\t   , SUM(nvl(A.INQ_CNT, 0))\t\t\t\t\tAS INQ_CNT\n",
    "\t\t   , MAX(B.CTGR_ID)\t\t\t\t\t\t\tAS CTGR_ID\n",
    "\t\t   , MAX(C.CTGR_PATH) \t\t\t\t\t\tAS CTGR_PATH\n",
    "\t\t   , MAX(B.REG_DTTM) \t\t\t\t\t\tAS REG_DTTM\n",
    "    \t   , MAX(B.REGR_ID)\t\t\t\t\t\t\tAS REGR_ID\n",
    "    \t   , MAX(B.REGR_DEPT_CD)\t\t\t\t\tAS REGR_DEPT_CD\n",
    "\t  FROM DPKMAPP.TBCTKK03 A\t   /* 컨텐츠 마스터  */\n",
    "INNER JOIN DPKMAPP.TBCTKK01 B ON (A.CNTNT_ID = B.CNTNT_ID)\t\t\t\t\t\t\t\n",
    "  INNER JOIN (\n",
    "            SELECT CTGR_ID\n",
    "                 , CTGR_NM\n",
    "                 , CTGR_PATH\n",
    "            FROM DPKMAPP.TBCTKK12\n",
    "            START WITH 1=1\n",
    "\t\t\t AND CTGR_ID      ='CA'\n",
    "            CONNECT BY PRIOR CTGR_ID = HGRK_CTGR_ID AND USE_YN ='Y'\n",
    "       ) C ON (B.CTGR_ID = C.CTGR_ID)  /* 카테고리 */\n",
    "\t WHERE 1=1\n",
    " \tAND DT BETWEEN {from_dt} AND {to_dt}\t\t\t\t\t\t\t\n",
    "  GROUP BY A.CNTNT_ID, A.DT\n",
    "     ) A\n",
    "\"\"\"\n",
    "df_inq = get_kms_datadf(sql)\n",
    "df_inq['req_dt'] = df_inq['reg_dttm'].dt.date\n",
    "df_inq = df_inq.groupby(['req_dt'])[['inq_cnt']].sum().sort_index(ascending=False)"
   ]
  },
  {
   "cell_type": "markdown",
   "id": "ddfe493a-feba-4999-a5d1-a49ff9b9f724",
   "metadata": {},
   "source": [
    "### loader"
   ]
  },
  {
   "cell_type": "markdown",
   "id": "9dab9c1b-e42f-4856-88dc-7e850a59e4d7",
   "metadata": {},
   "source": [
    "####  unstructed"
   ]
  },
  {
   "cell_type": "code",
   "execution_count": null,
   "id": "2434aed9-a612-4116-899c-d40488a76492",
   "metadata": {},
   "outputs": [],
   "source": [
    "from unstructured.partition.pdf import partition_pdf\n",
    "path = \"static/\"\n",
    "''' 라이브러리문제로 실행 오류발생'''\n",
    "# Extract images, tables, and chunk text\n",
    "raw_pdf_elements = partition_pdf(\n",
    "    filename= path +\"test.pdf\",\n",
    "    extract_images_in_pdf=True,\n",
    "    infer_table_structure=True,\n",
    "    chunking_strategy=\"by_title\",\n",
    "    max_characters=4000,\n",
    "    new_after_n_chars=3800,\n",
    "    combine_text_under_n_chars=2000,\n",
    "    image_output_dir_path=path,\n",
    ")"
   ]
  },
  {
   "cell_type": "markdown",
   "id": "1dc4c6b7-7ceb-4058-bb26-5ebed9dccd2a",
   "metadata": {},
   "source": [
    "### PDFloader"
   ]
  },
  {
   "cell_type": "code",
   "execution_count": null,
   "id": "0072d92c-56ca-4818-a908-5111ada6ec08",
   "metadata": {},
   "outputs": [],
   "source": [
    "from langchain.document_loaders import PyPDFLoader\n",
    "from langchain.document_loaders import PyMuPDFLoader"
   ]
  },
  {
   "cell_type": "code",
   "execution_count": null,
   "id": "9876aed1-ff0d-4a30-a4d3-0f54c85ca996",
   "metadata": {},
   "outputs": [],
   "source": [
    "file_name = 'static/test.pdf'\n",
    "loader = PyPDFLoader(file_name)\n",
    "documents = loader.load_and_split()"
   ]
  },
  {
   "cell_type": "code",
   "execution_count": null,
   "id": "81148e10-535c-4a01-941f-3b16a020d034",
   "metadata": {},
   "outputs": [],
   "source": [
    "# doc = fitz.open(\"static/test.pdf\")\n",
    "doc = fitz.open(\"static/chinese-table.pdf\")"
   ]
  },
  {
   "cell_type": "code",
   "execution_count": null,
   "id": "4933db59-06ff-4f4b-b80c-b413cd31d66b",
   "metadata": {},
   "outputs": [],
   "source": [
    "# doc.get_toc()\n",
    "doc.metadata\n",
    "# doc.page_count\n",
    "# doc.load_page(0)"
   ]
  },
  {
   "cell_type": "code",
   "execution_count": null,
   "id": "5eaf661d-3f9f-4b68-80dc-25341673897c",
   "metadata": {},
   "outputs": [],
   "source": [
    "def show_image(item, title=\"\"):\n",
    "    \"\"\"Display a pixmap.\n",
    "\n",
    "    Just to display Pixmap image of \"item\" - ignore the man behind the curtain.\n",
    "\n",
    "    Args:\n",
    "        item: any PyMuPDF object having a \"get_pixmap\" method.\n",
    "        title: a string to be used as image title\n",
    "\n",
    "    Generates an RGB Pixmap from item using a constant DPI and using matplotlib\n",
    "    to show it inline of the notebook.\n",
    "    \"\"\"\n",
    "    DPI = 150  # use this resolution\n",
    "    import numpy as np\n",
    "    import matplotlib.pyplot as plt\n",
    "\n",
    "    # %matplotlib inline\n",
    "    pix = item.get_pixmap(dpi=DPI)\n",
    "    img = np.ndarray([pix.h, pix.w, 3], dtype=np.uint8, buffer=pix.samples_mv)\n",
    "    plt.figure(dpi=DPI)  # set the figure's DPI\n",
    "    plt.title(title)  # set title of image\n",
    "    _ = plt.imshow(img, extent=(0, pix.w * 72 / DPI, pix.h * 72 / DPI, 0))\n",
    "    \n",
    "import fitz\n",
    "if not hasattr(fitz.Page, \"find_tables\"):\n",
    "    raise RuntimeError(\"This PyMuPDF version does not support the table feature\")\n",
    "    \n",
    "'''표 인식이 잘 안됨'''\n",
    "# doc = fitz.open(\"static/test.pdf\")\n",
    "doc = fitz.open(\"static/chinese-table.pdf\")\n",
    "print(doc)\n",
    "header = \"Header\"  # text in header\n",
    "footer = \"Page %i of %i\"  # text in footer\n",
    "for page in doc:\n",
    "#     print(dir(page))\n",
    "#     page.insert_text((50, 50), header)  # insert header\n",
    "#     page.insert_text(  # insert footer 50 points above page bottom\n",
    "#         (50, page.rect.height - 50),\n",
    "#         footer % (page.number + 1, doc.page_count),\n",
    "#     )\n",
    "    print(page.get_text())\n"
   ]
  },
  {
   "cell_type": "markdown",
   "id": "f1f69e01-c641-440b-a379-1a86b1baf10e",
   "metadata": {},
   "source": [
    "###### find table는 잘 인식되는듯하나 병합셀이 있으면 인식 불능으로 생각됨"
   ]
  },
  {
   "cell_type": "code",
   "execution_count": null,
   "id": "64892b81-6989-4211-9081-68f3905e07da",
   "metadata": {},
   "outputs": [],
   "source": [
    "''' find tables '''\n",
    "page = doc[0]\n",
    "tabs = page.find_tables()  # detect the tables\n",
    "for i,tab in enumerate(tabs):  # iterate over all tables\n",
    "    for cell in tab.header.cells:\n",
    "        page.draw_rect(cell,color=fitz.pdfcolor[\"red\"],width=0.3)\n",
    "    page.draw_rect(tab.bbox,color=fitz.pdfcolor[\"green\"])\n",
    "    print(f\"Table {i} column names: {tab.header.names}, external: {tab.header.external}\")\n",
    "show_image(page, f\"Table & Header BBoxes\")"
   ]
  },
  {
   "cell_type": "code",
   "execution_count": null,
   "id": "df155fb8-286e-4a55-a971-f5a56938be37",
   "metadata": {},
   "outputs": [],
   "source": [
    "page = doc[0]\n",
    "tabs = page.find_tables(horizontal_strategy=\"text\")\n",
    "# print(len(tabs.tables))\n",
    "print( f\"{len(tabs.tables)} tables on {page}\" )\n",
    "tab = tabs[0]\n",
    "for line in tab.extract():  # print cell text for each row\n",
    "    print(line)\n",
    "df = tab.to_pandas()"
   ]
  },
  {
   "cell_type": "code",
   "execution_count": null,
   "id": "0ee11d81-e0a3-4263-ba3b-9275c5463f77",
   "metadata": {},
   "outputs": [],
   "source": [
    "# choose the second table for conversion to a DataFrame\n",
    "tab = tabs[0]\n",
    "df2 = tab.to_pandas()"
   ]
  },
  {
   "cell_type": "markdown",
   "id": "9ef524b4-2223-4a14-93a2-a9747c5f7e96",
   "metadata": {},
   "source": [
    "### html header splitter"
   ]
  },
  {
   "cell_type": "code",
   "execution_count": null,
   "id": "adec77fa-0481-4be8-a513-114f9fa8eb61",
   "metadata": {},
   "outputs": [],
   "source": [
    "from langchain_text_splitters import RecursiveCharacterTextSplitter\n",
    "from langchain_text_splitters import HTMLHeaderTextSplitter\n",
    "from langchain_community.document_loaders import BSHTMLLoader\n",
    "\n",
    "url = \"docs/여비규정.html\"\n",
    "\n",
    "headers_to_split_on = [  # 분할할 HTML 헤더 태그와 해당 헤더의 이름을 지정합니다.\n",
    "    (\"h1\", \"Header 1\"),\n",
    "    (\"h2\", \"Header 2\"),\n",
    "    (\"h3\", \"Header 3\"),\n",
    "    (\"h4\", \"Header 4\"),\n",
    "]\n",
    "\n",
    "# HTML 헤더를 기준으로 텍스트를 분할하는 HTMLHeaderTextSplitter 객체를 생성합니다.\n",
    "html_splitter = HTMLHeaderTextSplitter(headers_to_split_on=headers_to_split_on)\n",
    "\n",
    "# URL에서 텍스트를 가져와 HTML 헤더를 기준으로 분할합니다. \n",
    "#(split_text_from_url(),split_text_from_file(),split_text()\n",
    "# html_header_splits = html_splitter.split_text_from_url(url)\n",
    "# loader = BSHTMLLoader(url,'utf-8')\n",
    "# documents = loader.load_and_split()\n",
    "html_header_splits = html_splitter.split_text_from_file(url)\n",
    "\n",
    "chunk_size = 900  # 텍스트를 분할할 청크의 크기를 지정합니다.\n",
    "chunk_overlap = 100  # 분할된 청크 간의 중복되는 문자 수를 지정합니다.\n",
    "text_splitter = RecursiveCharacterTextSplitter(  # 텍스트를 재귀적으로 분할하는 RecursiveCharacterTextSplitter 객체를 생성합니다.\n",
    "    chunk_size=chunk_size, chunk_overlap=chunk_overlap\n",
    ")\n",
    "\n",
    "# HTML 헤더로 분할된 텍스트를 다시 청크 크기에 맞게 분할합니다.\n",
    "splits = text_splitter.split_documents(html_header_splits)\n",
    "\n",
    "# 분할된 텍스트 중 80번째부터 85번째까지의 청크를 출력합니다.\n",
    "for header in splits:\n",
    "    print(f\"{header.page_content}\")\n",
    "    print(f\"{header.metadata}\", end=\"\\n=====================\\n\")"
   ]
  },
  {
   "cell_type": "code",
   "execution_count": null,
   "id": "3fa9465e-e736-48c5-9430-9b2c9d4681fc",
   "metadata": {},
   "outputs": [],
   "source": [
    "for header in splits:\n",
    "    print(f\"{header.page_content}\")\n",
    "    print(f\"{header.metadata}\", end=\"\\n=====================\\n\")"
   ]
  },
  {
   "cell_type": "markdown",
   "id": "a91c0e68-d9ae-4dce-9d84-6f23a379240c",
   "metadata": {},
   "source": [
    "### html tag간소화 및 AI-KMS연동"
   ]
  },
  {
   "cell_type": "code",
   "execution_count": 3,
   "id": "5ad7aaa4-75ed-44e2-8b2f-2b963b776057",
   "metadata": {},
   "outputs": [],
   "source": [
    "''' 정규표현식을 활용한 tag제거 '''\n",
    "# https://dbrang.tistory.com/1149\n",
    "import re\n",
    "# 함수선언\n",
    "def subResult(regex, repl, text):\n",
    "    value = re.sub(regex, repl, text)\n",
    "#     if value == text:\n",
    "#         print ('# -- '+ regex, '\\n', value, '\\n', '-' * 30)\n",
    "    return value\n",
    "\n",
    "def delete_tag(text,method=\"partial\"):\n",
    "    if text is None:\n",
    "        return ''\n",
    "    pattern = r'<style[^>]*>.*?</style>|style=\"[^\"]*\"'       # style= \" \" 태그 제거 \n",
    "    value = subResult(pattern, \"\", text)\n",
    "    if method=='all':\n",
    "        value = subResult(\"<(/)?p[^>]*>\", \"\", value)        # <p~></p~> 태그 제거\n",
    "        value = subResult(\"<(/)?b[^>]*>\", \"\", value)        # <b~></b~> 태그 제거\n",
    "        value = subResult(r\">\\s+<\", \"><\", value)            # 닫는 tag와 시작tag 사이의 공백제거\n",
    "    else:\n",
    "        value = subResult(\"<p[^>]*>\", \"\", value)              # <p~> 태그 제거\n",
    "    value = subResult(\"<(/)?span[^>]*>\", \" \", value)         # <spn~></span~> 태그 제거\n",
    "    value = ' '.join(value.split())                          # 두개 이상의 공백을 하나로\n",
    "    value = value.replace('&nbsp;','')\n",
    "    return value"
   ]
  },
  {
   "cell_type": "code",
   "execution_count": null,
   "id": "e2c2bd21-e336-4c7f-9ec3-8fa1913bd54c",
   "metadata": {},
   "outputs": [],
   "source": [
    "f_name = '52156.html'\n",
    "with open(f'docs/{f_name}','r', encoding='utf-8') as f:\n",
    "    data = f.readlines()\n",
    "    res = ''\n",
    "    for text in data:\n",
    "        value= delete_tag(text)\n",
    "        res += value\n",
    "print(res)\n",
    "\n",
    "o_name = f_name.split('.')[0] + 'cnv.' + f_name.split('.')[1]\n",
    "with open(f'docs/{o_name}','w', encoding='utf-8') as f:\n",
    "            f.write(res)"
   ]
  },
  {
   "cell_type": "code",
   "execution_count": null,
   "id": "f8d06d79-9882-4ce5-a0c6-be6e075510ea",
   "metadata": {},
   "outputs": [],
   "source": [
    "import json\n",
    "\n",
    "data = {\"name\":\"alice\"}\n",
    "json_string = json.dumps(data)\n",
    "print(json_string)\n",
    "\n",
    "# with open(\"data.json\",\"w\") as f:\n",
    "#     json.dump(data,f)"
   ]
  },
  {
   "cell_type": "code",
   "execution_count": 4,
   "id": "d1e6cf7f-59f9-4acb-9e9c-7769d67d4f38",
   "metadata": {},
   "outputs": [
    {
     "name": "stderr",
     "output_type": "stream",
     "text": [
      "2024-07-31 11:33:14.843 WARNING streamlit.runtime.caching.cache_data_api: No runtime found, using MemoryCacheStorageManager\n",
      "2024-07-31 11:33:14.850 WARNING streamlit.runtime.caching.cache_data_api: No runtime found, using MemoryCacheStorageManager\n"
     ]
    }
   ],
   "source": [
    "from pages import QA_chat as qc\n",
    "from models import database as db\n",
    "from models import html as htm\n",
    "import json"
   ]
  },
  {
   "cell_type": "code",
   "execution_count": 5,
   "id": "531d2e8d-6cc8-43fa-b42a-5219a6b17cdd",
   "metadata": {},
   "outputs": [],
   "source": [
    "def get_sql(cn_id):\n",
    "    return f'''SELECT k01.cntnt_id AS cntnt_id \n",
    "             , k01.titl AS titl_nm\n",
    "             , k13.cntnt_nm AS sec_nm\n",
    "             , k13.cntnt_no as sec_id\n",
    "             , k24.sub_cntnt_nm AS para_nm\n",
    "             , k24.sub_cntnt_no as para_id\n",
    "             , k24.contn AS contn\n",
    "             , bb.ctgr_path\n",
    "        FROM   tbctkk01 k01\n",
    "             , tbctkk13 k13\n",
    "             , tbctkk24 k24\n",
    "             ,(  SELECT  CTGR_ID\n",
    "                        , CTGR_NM\n",
    "                        , CTGR_PATH\n",
    "                        , CONNECT_BY_ISLEAF AS IS_LEAF\n",
    "                        FROM TBCTKK12\n",
    "                        START WITH USE_YN ='Y'\n",
    "                       AND CTGR_ID = 'CA'\n",
    "                CONNECT BY PRIOR CTGR_ID = HGRK_CTGR_ID AND USE_YN ='Y' ) bb\n",
    "        where k01.cntnt_id = {cn_id}\n",
    "          AND k01.cntnt_id = k13.cntnt_id\n",
    "          AND k13.cntnt_id = k24.CNTNT_ID \n",
    "          AND k13.cntnt_no = k24.CNTNT_NO \n",
    "          AND k01.use_yn = 'Y'\n",
    "          AND k13.use_yn = 'Y'\n",
    "          AND k24.use_yn = 'Y'\n",
    "          and k01.CTGR_ID = BB.CTGR_ID\n",
    "        ORDER BY k13.sort_ord, k24.sort_ord'''"
   ]
  },
  {
   "cell_type": "code",
   "execution_count": 6,
   "id": "0fecc811-516e-45de-bbe3-bde110eef083",
   "metadata": {},
   "outputs": [],
   "source": [
    "''' 컨텐츠 생성 함수'''\n",
    "def make_contents_to_json(cn_id):\n",
    "    sql = get_sql(cn_id)\n",
    "    df = db.get_kms_datadf(sql)\n",
    "    if df is None:\n",
    "        print(cn_id, ' No Data')\n",
    "        return False\n",
    "    df = df.fillna('')\n",
    "    \n",
    "    '''공공사업실 방법 ==> 최종 24.5.2 '''\n",
    "    dic = {}\n",
    "    temp_dic = {}\n",
    "    sec_i, para_i = [0, 0]\n",
    "    titl_nm,sec_id,para_id  = [\"\", \"\", \"\"]\n",
    "\n",
    "    lst = []\n",
    "    for idx, row in df.iterrows():\n",
    "        sec_i = sec_i + 1 if row.sec_id != sec_id else sec_i\n",
    "        para_i = 0 if row.sec_id != sec_id else  para_i  #텝이 바뀌면 순번 restart\n",
    "        para_i = para_i + 1 if row.para_id != para_id else para_i\n",
    "        temp_dic = {}\n",
    "        temp_dic['title'] = row.titl_nm\n",
    "        temp_dic['section'] = row.sec_nm\n",
    "        temp_dic['paragraph'] = row.para_nm\n",
    "#     html_string = htm.make_header(row.contn, row.titl_nm)\n",
    "        html_string = row.contn\n",
    "        html_string = delete_tag(html_string,\"all\")\n",
    "        temp_dic['contents'] = html_string\n",
    "        temp_dic['primary_key'] = f\"{row.cntnt_id}>{row.sec_id}>{row.para_id}\"\n",
    "        temp_dic['path'] = row.ctgr_path\n",
    "        lst.append(temp_dic)\n",
    "        titl_nm, sec_id, para_id = row.titl_nm,row.sec_id,row.para_id\n",
    "\n",
    "    o_name = 'docs/' + str(cn_id) + '.json'\n",
    "    dd = dict({'data':lst})\n",
    "    with open(o_name, 'w', encoding='utf8') as f:\n",
    "         f.write(json.dumps(dd, ensure_ascii=False))\n",
    "\n",
    "#     dd = str(lst)\n",
    "#     with open(o_name, 'w', encoding='utf8') as f:\n",
    "#          f.write(dd)\n",
    "    print('succ')"
   ]
  },
  {
   "cell_type": "code",
   "execution_count": 8,
   "id": "5aaa52fb-0f84-4d3c-8c8b-374273cb8841",
   "metadata": {},
   "outputs": [
    {
     "name": "stdout",
     "output_type": "stream",
     "text": [
      "SUCCESS: Connecting database succeeded\n",
      "succ\n"
     ]
    }
   ],
   "source": [
    "# cn_list = [52166,52167,52168,52169] #위블비지\n",
    "cn_list = [52753] #이베코,sbi\n",
    "for cn_id in cn_list:\n",
    "    make_contents_to_json(cn_id)"
   ]
  },
  {
   "cell_type": "markdown",
   "id": "9d6471ce-12c7-4318-a0a6-ed68e0389ba9",
   "metadata": {},
   "source": [
    "#### 생성된 컨텐츠를 API호출"
   ]
  },
  {
   "cell_type": "code",
   "execution_count": null,
   "id": "68b99ebd-1b77-4f87-82a6-e8fc3d64d43e",
   "metadata": {},
   "outputs": [],
   "source": [
    "import requests\n",
    "url = 'http://hkcloudai.com:8018/api/v1_1/vectorstore_api/vectorDB/list'\n",
    "\n",
    "res= requests.get(url)\n",
    "# data = {'param1': 'value1', 'param2': 'value'}\n",
    "# res = requests.post(URL, data=data)\n",
    "# res.request # 내가 보낸 request 객체에 접근 가능\n",
    "\n",
    "# res.status_code # 응답 코드\n",
    "# res.raise_for_status() # 200 OK 코드가 아닌 경우 에러 발동\n",
    "res_str = res.json()# json response일 경우 딕셔너리 타입으로 바로 변환\n",
    "# res.text  #UTF-8로 인코딩된 문자열\n",
    "# res.content # binary\n",
    "\n",
    "##dictonary로 key이름에 공백제거"
   ]
  },
  {
   "cell_type": "code",
   "execution_count": null,
   "id": "7bcb6013-e290-47e2-9e55-ceafb7eac463",
   "metadata": {},
   "outputs": [],
   "source": [
    "''' 1.vector list '''\n",
    "\n",
    "url = f'http://hkcloudai.com:8018/api/v1_1/vectorstore_api/vectorDB/list'\n",
    "res= requests.get(url)\n",
    "res.json() ## dictionary로 리턴 필요"
   ]
  },
  {
   "cell_type": "code",
   "execution_count": null,
   "id": "8fe4cfac-883c-4ce5-b716-b9f7ce74fb39",
   "metadata": {},
   "outputs": [],
   "source": [
    "''' 2. check contents list in vector db  '''\n",
    "\n",
    "code = 'wible'\n",
    "url = f'http://hkcloudai.com:8018/api/v1_1/vectorstore_api/vectorDB/check_contents_in_vectorDB?code={code}'\n",
    "res= requests.get(url)\n",
    "res.json()  ## dictionary로 리턴 필요"
   ]
  },
  {
   "cell_type": "code",
   "execution_count": null,
   "id": "89367068-7652-4400-a5b7-d050a0595ee3",
   "metadata": {},
   "outputs": [],
   "source": [
    "''' 3. update contents batch'''\n",
    "\n",
    "code = 'wiblle'\n",
    "cntnt_id='52451'\n",
    "url = f'http://hkcloudai.com:8018/api/v1_1/vectorstore_api/vectorDB/update_contents_batch'\n",
    "f_name = f'{cntnt_id}.json'\n",
    "cntnt_file = open(f'docs/{f_name}','r', encoding='utf8')\n",
    "data = cntnt_file.readlines()\n",
    "json_txt = {\"code\":code, \"contents_number\": cntnt_id, \"files\":data[0]}\n",
    "\n",
    "api_headers = {\"type\" : \"application/json\"}\n",
    "# txt_json = json.dumps(txt,ensure_ascii=False)\n",
    "\n",
    "res = requests.put(url, data = json.dumps(json_txt,ensure_ascii=False).replace(\"\\\\\",\"\"), headers=api_headers)\n",
    "# res = requests.put(url, json = txt_json, headers=api_headers)\n",
    "# print(res.request.method)\n",
    "# print(res.request.body)\n",
    "print('res::', res.status_code)"
   ]
  },
  {
   "cell_type": "code",
   "execution_count": null,
   "id": "85291fc3-9ccf-4ff0-9f6d-1ce5b0121bcb",
   "metadata": {},
   "outputs": [],
   "source": [
    "json.dumps(json_txt,ensure_ascii=False).replace(\"\\\\\",\"\")"
   ]
  },
  {
   "cell_type": "code",
   "execution_count": null,
   "id": "767bcd2f-9068-468c-b7c0-f01357625025",
   "metadata": {},
   "outputs": [],
   "source": [
    "cntnt_id=52451\n",
    "f_name = f'{cntnt_id}.json'\n",
    "cntnt_file = open(f'docs/{f_name}','r', encoding='utf8')\n",
    "data1 = cntnt_file.readlines()\n",
    "data1[0]\n",
    "json_txt = {\"code\":code, \"contents_number\": cntnt_id, \"files\":data1[0]}\n",
    "json_txt\n"
   ]
  },
  {
   "cell_type": "code",
   "execution_count": null,
   "id": "ad179b65-249e-40b2-99ed-6ee76c258cf2",
   "metadata": {},
   "outputs": [],
   "source": [
    "jj = {\n",
    "  \"code\": \"wible\",\n",
    "  \"contents_number\": \"52451\",\n",
    "  \"files\": {\"data\": [{\"title\": \"이용절차 및 이용신청\", \"section\": \"이용안내\", \"paragraph\": \"이용자등록\", \"contents\": \"이용자등록 1. 교통수단을 이용하고자 하는 사람은 사전에 이용대상자 등록 절차를 거쳐야 하며, 이용대상자로 등록된 후부터 이용신청 절차를 통하여 이용할 수 있다. 2. 이용대상자 심사신청 절차 및 심사에 관한 사항은 시군 이동지원센터 에서 별도의 규정에 의거 업무를 수행한다. ※  경 기도광역이동지원시스템 (https://ggsts.gg.go.kr/front/index.do) 홈페이지 이용 1. 시ㆍ군 에 이용자 등록이 되어있는경우 &#9312; 경기도 광역이동지원시스템 회원가입(인터넷, 스마트폰앱) &#9313; 회원가입시 선택한 시ㆍ군 관할 이동지원센터로 등록요청 &#9314; 시ㆍ군 이동지원센터에서 경기도 광역이동지원시스템 가입자 아이디 확인후 승인처리 2. 시ㆍ군 에 이용자 등록이 안된경우 &#9312; 경기도 광역이동지원센터 홈페이지 회원가입(인터넷, 스마트폰) &#9313; 회원가입시 선택한 시ㆍ군 이동지원센터에 심사서류 제출 ☞ 네이버에서 OO 시ㆍ군 교통약자 이동지원센터 검색 &rarr; 이용등록신청서류 내려받기 &rarr; 서류 작성,증빙서류 제출 &#9314; 시ㆍ군 이동지원센터 승인 완료 후 이용 가능\", \"primary_key\": \"52451>1>1.1\", \"path\": \"팔레트>경기도 광역이동지원센터>표준지침>경기도광역이동\"}, {\"title\": \"이용절차 및 이용신청\", \"section\": \"이용안내\", \"paragraph\": \"이용신청\", \"contents\": \"▣특별교통수단의 이용신청은 광역 이동지원센터 전화, 모바일 앱, 홈페이지, 문자를 통해 신청 할 수 있음.  <ul ><li>이용횟수</li></ul> 즉시콜과 사전예약을 병행하며, 전체 이용횟수는 1일 4회로 제한한다. 다만, 사전예약의 이용횟수는 1일 2회로 제한한다. (차량배차 후 이용취소 건, 배차 후 미탑승 건을 모두 포함하여 산정) <ul ><li>이용시간</li></ul> 즉시콜 - 24시간 사전예약 - 이용일 기준 1일전 07시 부터 22시 사이에 선착순으로 전화, 모바일 앱, 홈페이지를 통해서 만 신청할 수 있다. <ul ><li>이용목적</li></ul> 즉시콜 - 없음 사전예약 - 병원진료, 등하교, 출퇴근시 편도로 이용 가능하며, 이를 증빙할 수 있는 서류를 사전에 해당 시군에 제출해야 한다 <table cellspacing=\\\"0\\\" cellpadding=\\\"0\\\" border=\\\"1\\\" class=\\\"\\\"><tbody><tr><th scope=\\\"col\\\"> 병원진료 </th><th scope=\\\"col\\\"> 등하교 </th><th scope=\\\"col\\\"> 출퇴근 </th></tr><tr><td > 병원 예약내역 (탑승시 운전자에게 제시)</td><td > 재학증명서</td><td > 재직증명서</td></tr></tbody></table> ※ 병원예약내역 운전자에게 미제출시 해당일부터 7일간 특별교통수단 이용이 제한된다. ※ 경기도내, 수도권 사전예약 및 즉시콜 배차 후 접수 일기준 30일이내 취소횟수가 6회 이상일 경우 특별교통수단 이용이 제한된다. <ul ><li> 즉시콜 이용자 </li></ul> 당일 접수, 당일 운행 차량 탑승을 원칙으로 한다. 단, 당일 심야차량 이용 목적인 즉시콜 접수자는 당일 심야 차량에 한해서만 탑승할 수 있다.\", \"primary_key\": \"52451>1>1.2\", \"path\": \"팔레트>경기도 광역이동지원센터>표준지침>경기도광역이동\"}, {\"title\": \"이용절차 및 이용신청\", \"section\": \"이용안내\", \"paragraph\": \"이용요금\", \"contents\": \"이용요금 1. 특별교통수단은 네비게이션에서 제공하는 실시간 최적거리 ( 유료도로 포함 ) 기준으로 운행하며 , 이를 적용한 이용요금을 부과한다 . 2 특별교통수단이용요금의 기본구간은 경기도 시내버스 요금을 적용하고 , 10km 초과시 5km 당 100 원으로 정한다 . 3 이용요금외에 차량 탑승 중 발생하는 통행료 및 주차료는 이용자 부담 을 원칙으로 한다 . ※제26조(재정지원) - 도지사는 특별교통수단에 대하여 운행요금 외에 발생하는 유료도로 통행료와 주차비는 운영비 범위내에서 지원할수있다. <table cellspacing=\\\"0\\\" cellpadding=\\\"0\\\" border=\\\"1\\\" class=\\\"\\\" ><tbody><tr><td > 시군 </td><td > 통행료부담 </td><td colspan=\\\"1\\\" rowspan=\\\"1\\\"> 주차비 </td></tr><tr><td > 가평 </td><td colspan=\\\"1\\\"> 이용자부담 </td><td colspan=\\\"1\\\" rowspan=\\\"1\\\"> 이용자부담 </td></tr><tr><td > 고양 </td><td colspan=\\\"1\\\"> 이용자부담 </td><td colspan=\\\"1\\\" rowspan=\\\"1\\\"> 이용자부담 </td></tr><tr><td > 과천 </td><td colspan=\\\"1\\\"> 이용자부담(왕복비용) </td><td colspan=\\\"1\\\" rowspan=\\\"1\\\"> 이용자부담 </td></tr><tr><td > 광명 </td><td colspan=\\\"1\\\"> 이용자부담 </td><td colspan=\\\"1\\\" rowspan=\\\"1\\\"> 이용자부담 </td></tr><tr><td > 광주 </td><td colspan=\\\"1\\\"> 이용자부담 </td><td colspan=\\\"1\\\" rowspan=\\\"1\\\"> 이용자부담 </td></tr><tr><td > 구리 </td><td colspan=\\\"1\\\"> 이용자부담 </td><td colspan=\\\"1\\\" rowspan=\\\"1\\\"> 이용자부담 </td></tr><tr><td > 군포 </td><td colspan=\\\"1\\\"> 센터부담 </td><td colspan=\\\"1\\\" rowspan=\\\"1\\\"> 이용자부담 </td></tr></tbody></table><table cellspacing=\\\"0\\\" cellpadding=\\\"0\\\" border=\\\"1\\\" class=\\\"\\\" ><tbody><tr><td > 김포 </td><td > 센터 부담 </td><td colspan=\\\"1\\\" rowspan=\\\"1\\\"> 이용자부담 </td></tr><tr><td > 남양주 </td><td colspan=\\\"1\\\"> 센터 부담 </td><td colspan=\\\"1\\\" rowspan=\\\"1\\\"> 이용자부담 </td></tr><tr><td > 동두천 </td><td colspan=\\\"1\\\"> 이용자부담(왕복비용) </td><td colspan=\\\"1\\\" rowspan=\\\"1\\\"> 이용자부담 </td></tr><tr><td > 부천 </td><td colspan=\\\"1\\\"> 이용자부담 </td><td colspan=\\\"1\\\" rowspan=\\\"1\\\"> 이용자부담 </td></tr><tr><td > 성남 </td><td colspan=\\\"1\\\"> 이용자부담 </td><td colspan=\\\"1\\\" rowspan=\\\"1\\\"> 이용자부담 </td></tr><tr><td > 수원 </td><td colspan=\\\"1\\\"> 이용자부담 </td><td colspan=\\\"1\\\" rowspan=\\\"1\\\"> 이용자부담 </td></tr><tr><td > 시흥 </td><td colspan=\\\"1\\\"> 이용자부담 </td><td colspan=\\\"1\\\" rowspan=\\\"1\\\"> 이용자부담 </td></tr><tr><td > 안산 </td><td colspan=\\\"1\\\"> 센터 부담 </td><td colspan=\\\"1\\\" rowspan=\\\"1\\\"> 이용자부담 </td></tr></tbody></table><table cellspacing=\\\"0\\\" cellpadding=\\\"0\\\" border=\\\"1\\\" class=\\\"\\\" ><tbody><tr><td > 안성 </td><td > 센터 부담 </td><td colspan=\\\"1\\\" rowspan=\\\"1\\\"> 이용자부담 </td></tr><tr><td > 안양 </td><td colspan=\\\"1\\\"> 이용자부담 </td><td colspan=\\\"1\\\" rowspan=\\\"1\\\"> 이용자부담 </td></tr><tr><td > 양주 </td><td colspan=\\\"1\\\"> 센터 부담 </td><td colspan=\\\"1\\\" rowspan=\\\"1\\\"> 이용자부담 </td></tr><tr><td > 양평 </td><td colspan=\\\"1\\\"> 이용자부담 </td><td colspan=\\\"1\\\" rowspan=\\\"1\\\"> 이용자부담 </td></tr><tr><td > 여주 </td><td colspan=\\\"1\\\"> 이용자부담 </td><td colspan=\\\"1\\\" rowspan=\\\"1\\\"> 이용자부담 </td></tr><tr><td > 연천 </td><td colspan=\\\"1\\\"> 이용자부담 </td><td colspan=\\\"1\\\" rowspan=\\\"1\\\"> 이용자부담 </td></tr><tr><td > 오산 </td><td colspan=\\\"1\\\"> 이용자부담 </td><td colspan=\\\"1\\\" rowspan=\\\"1\\\"> 이용자부담 </td></tr><tr><td > 용인 </td><td colspan=\\\"1\\\"> 센터 부담 </td><td colspan=\\\"1\\\" rowspan=\\\"1\\\"> 이용자부담 </td></tr></tbody></table><table cellspacing=\\\"0\\\" cellpadding=\\\"0\\\" border=\\\"1\\\" class=\\\"\\\" ><tbody><tr><td > 의왕 </td><td > 이용자부담 </td><td colspan=\\\"1\\\" rowspan=\\\"1\\\"> 이용자부담 </td></tr><tr><td > 의정부 </td><td colspan=\\\"1\\\"> 센터 부담 </td><td colspan=\\\"1\\\" rowspan=\\\"1\\\"> 이용자부담 </td></tr><tr><td > 이천 </td><td colspan=\\\"1\\\"> 이용자부담 </td><td colspan=\\\"1\\\" rowspan=\\\"1\\\"> 이용자부담 </td></tr><tr><td > 파주 </td><td colspan=\\\"1\\\"> 이용자부담 </td><td colspan=\\\"1\\\" rowspan=\\\"1\\\"> 이용자부담 </td></tr><tr><td > 평택 </td><td colspan=\\\"1\\\"> 센터 부담 </td><td colspan=\\\"1\\\" rowspan=\\\"1\\\"> 이용자부담 </td></tr><tr><td > 포천 </td><td colspan=\\\"1\\\"> 이용자부담 </td><td colspan=\\\"1\\\" rowspan=\\\"1\\\"> 이용자부담 </td></tr><tr><td > 하남 </td><td colspan=\\\"1\\\"> 센터 부담 </td><td colspan=\\\"1\\\" rowspan=\\\"1\\\"> 이용자부담 </td></tr><tr><td > 화성 </td><td colspan=\\\"1\\\"> 이용자부담 </td><td colspan=\\\"1\\\" rowspan=\\\"1\\\"> 이용자부담 </td></tr></tbody></table>\", \"primary_key\": \"52451>1>1.3\", \"path\": \"팔레트>경기도 광역이동지원센터>표준지침>경기도광역이동\"}]}\n",
    "}\n",
    "jj.keys()"
   ]
  },
  {
   "cell_type": "code",
   "execution_count": null,
   "id": "ab91c63f-3bea-4bb2-8d3e-71f25cc0d8d0",
   "metadata": {},
   "outputs": [],
   "source": [
    "dict1 = { \"name\" : \"song\", \"age\" : 10 }\n",
    "json_val = json.dumps(dict1)\n",
    "json_val"
   ]
  },
  {
   "cell_type": "code",
   "execution_count": null,
   "id": "2524ed2d-31ce-4eff-b350-543d60ee4c31",
   "metadata": {},
   "outputs": [],
   "source": [
    "data[0]"
   ]
  },
  {
   "cell_type": "code",
   "execution_count": null,
   "id": "67ac8a77-4d1b-4556-ac01-a30fc148702e",
   "metadata": {},
   "outputs": [],
   "source": [
    "''' 3. update contents '''\n",
    "\n",
    "code = 'wible'\n",
    "cntnt_id='52169'\n",
    "url = f'http://hkcloudai.com:8018/api/v1_1/vectorstore_api/vectorDB/update_contents?code={code}&contents_number={cntnt_id}'\n",
    "f_name = f'{cntnt_id}.json'\n",
    "# cntnt_file = open(f'docs/{f_name}','rb')\n",
    "# files = {'file':cntnt_file}\n",
    "cntnt_file = {\n",
    "    'file': ('52169.json', open(f'docs/{f_name}', 'rb')),\n",
    "}\n",
    "headers = {\"accept\" : \"application/json\",\"Content-Type\": \"multipart/form-data\"}\n",
    "payload = {}\n",
    "res = requests.put(url, files=files, headers=headers)\n",
    "print('res::', res.status_code)"
   ]
  },
  {
   "cell_type": "code",
   "execution_count": null,
   "id": "1eeec5fb-373d-4d84-b1d5-8fdabb42f233",
   "metadata": {},
   "outputs": [],
   "source": [
    "cntnt_file"
   ]
  },
  {
   "cell_type": "code",
   "execution_count": null,
   "id": "13af469c-12a2-4a9c-b524-972f2224dd87",
   "metadata": {},
   "outputs": [],
   "source": [
    "!curl -X \"PUT\" \\\n",
    "  \"http://hkcloudai.com:8018/api/v1_1/vectorstore_api/vectorDB/update_contents?code=wible&contents_number=52169\" \\\n",
    "  -H \"accept: application/json\" \\\n",
    "  -H \"Content-Type: multipart/form-data\" \\\n",
    "  -F \"files=@docs/52169.json;type=application/json\""
   ]
  },
  {
   "cell_type": "code",
   "execution_count": null,
   "id": "51d78799-c866-4a73-b220-531bda8b080c",
   "metadata": {},
   "outputs": [],
   "source": [
    "files"
   ]
  },
  {
   "cell_type": "code",
   "execution_count": null,
   "id": "10d3f1b4-9866-4845-8f57-91d33ac33af5",
   "metadata": {},
   "outputs": [],
   "source": [
    "f_name = f'{cntnt_id}.json'\n",
    "with open(f'docs/{f_name}','r', encoding='utf-8') as f:\n",
    "    data = f.readlines()\n",
    "data[0]"
   ]
  },
  {
   "cell_type": "code",
   "execution_count": null,
   "id": "a07c06b0-f98e-43c8-9165-b2f4868b02db",
   "metadata": {},
   "outputs": [],
   "source": [
    "''' 4. retrieval '''\n",
    "\n",
    "code = 'CW'\n",
    "query = '보상쿠폰 지급기준에 대해 알려줘'\n",
    "url = f'http://hkcloudai.com:8018/api/v1_1/retrieve/retrieve/retrieval_non_streaming?code={code}&query={query}'\n",
    "res = requests.get(url)\n",
    "res_str = res.json()  ## dictionary로 넣어줄 필요가 있음\n",
    "res_str['llm_response'][0]\n"
   ]
  },
  {
   "cell_type": "code",
   "execution_count": null,
   "id": "f5218201-eea2-480d-bb90-26df391a0782",
   "metadata": {},
   "outputs": [],
   "source": [
    "# res_str['llm_response']\n",
    "# res_str['retrieval_docs']\n",
    "for i in res_str.get('retrieval_docs'): #'meta_data'\n",
    "    print(i.get('doc'))\n",
    "    cntnt_id = i.get('metadata').get('primary_key').split('>')[0]\n",
    "    section =i.get('metadata').get('section')\n",
    "    para = i.get('metadata').get('paragraph')\n",
    "    rel_doc = f'{cntnt_id} : {section} >  {para}'\n",
    "    print(rel_doc)\n",
    "    \n",
    "    k_url = 'https://nkms.hkpalette.com/webapps/kk/kn/KkKn003.jsp?TYPE=KN&CNTNT_ID='\n",
    "    k_url = f'{k_url}{cntnt_id}&MENU_ID='\n",
    "    print(k_url)\n",
    "    print(f'[{rel_doc}]({k_url}')"
   ]
  },
  {
   "cell_type": "markdown",
   "id": "122e9ee2-fc90-41b0-88bd-335108ee386e",
   "metadata": {},
   "source": [
    "#### 아래는 참고용"
   ]
  },
  {
   "cell_type": "code",
   "execution_count": null,
   "id": "bc3f8aab-fcee-485d-ae0e-aa1e165e4c82",
   "metadata": {},
   "outputs": [],
   "source": [
    "# cn_id = 52162\n",
    "# # df = qc.get_kms_contents(cn_id)\n",
    "# sql = get_sql(cn_id)\n",
    "# df = db.get_kms_datadf(sql)\n",
    "\n",
    "# '''간단한 방법이며 이 방법으로 일단 진행시킴'''\n",
    "# dic = {}\n",
    "# temp_dic = {}\n",
    "# titl_nm,tab_nm,sub_nm  = ['', '', '']\n",
    "# sec_i, para_i = [0, 0]\n",
    "\n",
    "# for idx, row in df.iterrows():\n",
    "#     sec_i = sec_i + 1 if row.tab_nm != tab_nm else sec_i\n",
    "#     para_i = para_i + 1 if row.sub_nm != sub_nm else para_i\n",
    "\n",
    "#     temp_dic['titl'] = row['titl_nm']\n",
    "#     temp_dic['section'+str(sec_i)] = row.tab_nm\n",
    "#     temp_dic['paragraph'+str(para_i)] = row.sub_nm\n",
    "#     html_string = htm.make_header(row.contn, row.titl_nm)\n",
    "#     html_string = delete_tag(html_string)\n",
    "#     temp_dic['contents'+str(para_i)] = html_string\n",
    "#     dic.update(temp_dic)\n",
    "#     titl_nm, tab_nm, sub_nm = row.titl_nm,row.tab_nm,row.sub_nm\n",
    "    \n",
    "# metadata = f'id={df.cntnt_id[0]};path={df.ctgr_path[0]}'\n",
    "# dd = {'data':dic, 'metadata': metadata}\n",
    "# o_name = 'docs/' + str(cn_id) + '.json'\n",
    "# with open(o_name, 'w', encoding='utf8') as f:\n",
    "#      f.write(json.dumps(dd, ensure_ascii=False))\n",
    "# print('succ')"
   ]
  },
  {
   "cell_type": "code",
   "execution_count": null,
   "id": "1c695a66-2606-4158-8fc1-237ce5d6deed",
   "metadata": {},
   "outputs": [],
   "source": [
    "cn_id = 52156\n",
    "# df = qc.get_kms_contents(cn_id)\n",
    "sql = get_sql(cn_id)\n",
    "df = db.get_kms_datadf(sql)\n",
    "\n",
    "'''공공사업실 방법 ==> 협의했던 방법(순번부여)'''\n",
    "dic = {}\n",
    "temp_dic = {}\n",
    "titl_nm,sec_nm,para_nm  = ['', '', '']\n",
    "sec_i, para_i = [0, 0]\n",
    "\n",
    "lst = []\n",
    "for idx, row in df.iterrows():\n",
    "    sec_i = sec_i + 1 if row.sec_nm != sec_nm else sec_i\n",
    "    para_i = 0 if row.sec_nm != sec_nm else  para_i  #텝이 바뀌면 순번 restart\n",
    "    para_i = para_i + 1 if row.para_nm != para_nm else para_i\n",
    "    temp_dic = {}\n",
    "    temp_dic['section'+str(sec_i)] = row.sec_nm\n",
    "    temp_dic['paragraph'+str(para_i)] = row.para_nm\n",
    "#     html_string = htm.make_header(row.contn, row.titl_nm)\n",
    "    html_string = row.contn\n",
    "    html_string = delete_tag(html_string,\"all\")\n",
    "    temp_dic['contents'+str(para_i)] = html_string\n",
    "    lst.append(temp_dic)\n",
    "    titl_nm, sec_nm, para_nm = row.titl_nm,row.sec_nm,row.para_nm\n",
    "    \n",
    "# metadata = f'title:{titl_nm},primary_key:{df.cntnt_id[0]},path={df.ctgr_path[0]}'\n",
    "metadata = dict({'title':titl_nm,'primary_key':df.cntnt_id[0], 'path':df.ctgr_path[0]})\n",
    "dd = dict({'data':lst, 'metadata':metadata})\n",
    "o_name = 'docs/' + str(cn_id) + '.json'\n",
    "with open(o_name, 'w', encoding='utf8') as f:\n",
    "     f.write(json.dumps(dd, ensure_ascii=False))\n",
    "print('succ')"
   ]
  },
  {
   "cell_type": "code",
   "execution_count": null,
   "id": "d0ce50dc-7378-42c8-aaca-d78dcd0c8b55",
   "metadata": {},
   "outputs": [],
   "source": [
    "### 트리 구조형태이나 너무 복잡함 ###\n",
    "dic = {}\n",
    "titl_nm,sec_nm,para_nm  = ['', '', '']\n",
    "sec_i, para_i = [0, 0]\n",
    "\n",
    "for idx, row in df.iterrows():\n",
    "#     print(row)\n",
    "    sec_i = sec_i + 1 if row.sec_nm != sec_nm else sec_i\n",
    "    print(sec_i, row.sec_nm)\n",
    "    para_i = para_i + 1 if row.para_nm != para_nm else para_i\n",
    "\n",
    "    dic['titl'] = row['titl_nm']\n",
    "    dic['contents '+str(sec_i)] = {'title': row.sec_nm,\n",
    "                      \"para\": {\n",
    "                        'para'+str(para_i):\n",
    "                            { 'title': row.para_nm,\n",
    "                              'contents': \"ss\" #row.contn\n",
    "                          }\n",
    "                       }\n",
    "                     }\n",
    "    titl_nm, sec_nm, para_nm = row.titl_nm,row.sec_nm,row.para_nm"
   ]
  },
  {
   "cell_type": "code",
   "execution_count": null,
   "id": "589f4674-1b43-49cf-88d7-f8df216b2f36",
   "metadata": {},
   "outputs": [],
   "source": [
    "df.groupby(level=-1).apply(lambda df: df.xs(df.name).to_dict()).to_dict()\n",
    "# df.groupby(level=0)"
   ]
  },
  {
   "cell_type": "code",
   "execution_count": null,
   "id": "7e3ff664-646b-4702-8dbc-2d09846b5dae",
   "metadata": {},
   "outputs": [],
   "source": [
    "df.xs(df.name)"
   ]
  },
  {
   "cell_type": "code",
   "execution_count": null,
   "id": "63bac909-5a84-4066-8826-d8af3579627a",
   "metadata": {},
   "outputs": [],
   "source": [
    "for i in df.groupby(level=0):\n",
    "    print(i)"
   ]
  },
  {
   "cell_type": "code",
   "execution_count": null,
   "id": "1a6db19d-e704-416a-9a49-29f54ab32453",
   "metadata": {},
   "outputs": [],
   "source": [
    "data_json4 = {\n",
    "     \"title\": \"제목명\",\n",
    "     \"section\": {\n",
    "        \"sec1\" : {\n",
    "            \"title\":\"탭1명\",\n",
    "            \"para\": {\n",
    "              \"para1\": { \n",
    "                \"title\" : \"소제목1명\",\n",
    "                \"contents\": \"내용1 html\"\n",
    "              },\n",
    "              \"para2\": { \n",
    "                \"title\" : \"소제목1명\",\n",
    "                \"contents\": \"내용2 html\"\n",
    "             }\n",
    "            }\n",
    "          },\n",
    "\n",
    "          \"sec2\" : {\n",
    "            \"title\":\"탭2명\",\n",
    "            \"para\": {\n",
    "                \"para1\": { \n",
    "                    \"title\" : \"소제목1명\",\n",
    "                    \"contents\": \"내용1 html\"\n",
    "                },\n",
    "                \"para2\": { \n",
    "                    \"title\" : \"소제목1명\",\n",
    "                    \"contents\": \"내용1 html\"\n",
    "                },\n",
    "            }\n",
    "          }\n",
    "        }\n",
    "      }"
   ]
  }
 ],
 "metadata": {
  "kernelspec": {
   "display_name": "Python 3",
   "language": "python",
   "name": "python3"
  },
  "language_info": {
   "codemirror_mode": {
    "name": "ipython",
    "version": 3
   },
   "file_extension": ".py",
   "mimetype": "text/x-python",
   "name": "python",
   "nbconvert_exporter": "python",
   "pygments_lexer": "ipython3",
   "version": "3.8.8"
  }
 },
 "nbformat": 4,
 "nbformat_minor": 5
}

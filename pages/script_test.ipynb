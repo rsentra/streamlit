{
 "cells": [
  {
   "cell_type": "code",
   "execution_count": null,
   "id": "a0af68a7-00f0-4190-8bc4-2092b01e35ae",
   "metadata": {},
   "outputs": [],
   "source": [
    "dic = \"{'형상관리가이드.pdf': 100, '여비규정.pdf': 101, '국가공인민간자격.html': 102}\""
   ]
  },
  {
   "cell_type": "code",
   "execution_count": null,
   "id": "61d158cf-189b-4d3f-8e40-e0f3858d6e3c",
   "metadata": {},
   "outputs": [],
   "source": [
    "s = ['형상관리가이드.pdf','여비규정.pdf']\n",
    "for doc_name in s:\n",
    "    index_nm = eval(dic).get(doc_name)\n",
    "    print(index_nm)"
   ]
  },
  {
   "cell_type": "code",
   "execution_count": null,
   "id": "1a2c8191-1168-4523-a236-ade31778dd75",
   "metadata": {},
   "outputs": [],
   "source": [
    "import cx_Oracle\n",
    "import pandas as pd\n",
    "\n",
    "def aa(content_id):\n",
    "    username = 'DPKMAPP'\n",
    "    password = 'Kms12#$'\n",
    "    dsn = '61.106.19.217:33389/CDB1'\n",
    "    encoding = 'UTF-8'\n",
    "    \n",
    "    sql = f\"\"\" SELECT k01.cntnt_id AS cntnt_id \n",
    "         , k01.titl AS titl_nm\n",
    "         , k13.cntnt_nm AS tab_nm\n",
    "         , k24.sub_cntnt_nm AS sub_nm\n",
    "         , k24.contn AS contn\n",
    "    FROM   tbctkk01 k01\n",
    "         , tbctkk13 k13\n",
    "         , tbctkk24 k24\n",
    "    where k01.cntnt_id = {content_id}\n",
    "      AND k01.cntnt_id = k13.cntnt_id\n",
    "      AND k13.cntnt_id = k24.CNTNT_ID \n",
    "      AND k13.cntnt_no = k24.CNTNT_NO \n",
    "      AND k01.use_yn='Y'\n",
    "      AND k13.use_yn='Y'\n",
    "      AND k24.use_yn='Y'\n",
    "    ORDER BY k13.sort_ord, k24.sort_ord \"\"\"\n",
    "\n",
    "    # 오라클 클라이언트를 선언: windows 환경변수에 path를 잡으면 필요없음\n",
    "#     sql = f\"SELECT cntnt_id, sub_cntnt_nm,contn FROM DPKMAPP.TBCTKk24 where cntnt_id = {content_id}\"\n",
    "    try:\n",
    "        cx_Oracle.init_oracle_client(lib_dir=r\"C:\\oracle\\instantclient_21_12\")\n",
    "    except Exception as e:\n",
    "        pass\n",
    "\n",
    "    try:\n",
    "        connection = cx_Oracle.connect(username, password, dsn, encoding=encoding)\n",
    "  \n",
    "        with connection.cursor() as cursor:\n",
    "            cursor.execute(sql)\n",
    "            rows = cursor.fetchall()\n",
    "            cols = [x[0].lower() for x in cursor.description]\n",
    "   \n",
    "        df = pd.DataFrame(rows, columns = cols)\n",
    "        for c in df.columns:\n",
    "            if df[c].dtype == object:\n",
    "                df[c] = df[c].astype(\"string\")\n",
    "\n",
    "        connection.close()\n",
    "\n",
    "    except cx_Oracle.DatabaseError as ex:\n",
    "        err, = ex.args\n",
    "        print('error code :', err.code)\n",
    "        print('error message :', err.message)\n",
    "   \n",
    "    print(len(df.contn))\n",
    "    print(df)\n",
    "    return df"
   ]
  },
  {
   "cell_type": "code",
   "execution_count": null,
   "id": "ad3fe9a4-8332-46ae-8ae0-9dc8153de77e",
   "metadata": {},
   "outputs": [],
   "source": [
    "content_id = 51249\n",
    "df = aa(content_id)"
   ]
  },
  {
   "cell_type": "code",
   "execution_count": null,
   "id": "578728e7-44a0-451b-99fe-1eef660980c3",
   "metadata": {},
   "outputs": [],
   "source": []
  },
  {
   "cell_type": "code",
   "execution_count": null,
   "id": "1951371a-159f-41d1-8ca2-1d863f1c893a",
   "metadata": {},
   "outputs": [],
   "source": [
    "html_header = f'<!DOCTYPE html> \\\n",
    "    <html> \\\n",
    "    <head><meta http-equiv=\"X-UA-Compatible\" content=\"IE=Edge\"> \\\n",
    "        <meta http-equiv=\"Content-Type\" content=\"text/html; charset=UTF-8\"> \\\n",
    "        <title> {titl_nm} </title> \\\n",
    "    </head> <body> '\n",
    "html_footer = '</body> </html>'\n",
    "\n",
    "# s1 = '<h3>' + df['sub_cntnt_nm'].to_string(index=False) + '</h3>'\n",
    "# s2 = df['contn'].to_string(index=False)  # to_string함수를 쓰면 짤림\n"
   ]
  },
  {
   "cell_type": "code",
   "execution_count": null,
   "id": "dee24dc7-b423-4308-b884-0dfce46f3498",
   "metadata": {},
   "outputs": [],
   "source": [
    "html_doc = ''\n",
    "titl_nm,tab_nm,sub_nm  = ['','','']\n",
    "\n",
    "for idx,row in df.iterrows():\n",
    "#     s1 =  '<h1>' + row.titl_nm +'</h1>' if row.titl_nm != titl_nm else \"\"\n",
    "    titl_nm = row.titl_nm\n",
    "    s2 =  '<h2>' + row.tab_nm +'</h2>' if row.tab_nm != tab_nm else \"\"\n",
    "    s3 =  '<h3>' + row.sub_nm +'</h3>' if row.sub_nm != sub_nm else \"\"\n",
    "    html_doc = html_doc + s2 + s3 + row.contn\n",
    "    titl_nm, tab_nm, sub_nm = row.titl_nm,row.tab_nm,row.sub_nm\n",
    "\n",
    "\n",
    "   "
   ]
  },
  {
   "cell_type": "code",
   "execution_count": null,
   "id": "97399a98-0d42-4f7b-b3b7-083f0ede57a9",
   "metadata": {},
   "outputs": [],
   "source": [
    "html_doc = html_header + html_doc + html_footer"
   ]
  },
  {
   "cell_type": "code",
   "execution_count": null,
   "id": "d065adde-c247-4615-9098-7a992b9ffa26",
   "metadata": {},
   "outputs": [],
   "source": [
    "html_doc"
   ]
  },
  {
   "cell_type": "code",
   "execution_count": null,
   "id": "75a28631-58d4-4e74-8523-147ff8a6b67b",
   "metadata": {},
   "outputs": [],
   "source": [
    "f = '51249.html'\n",
    "f='국가공인민간자격.html'\n",
    "with open(f'../../gpt/data/{f_name}','r', encoding='utf-8') as f:\n",
    "    ff = f.read()\n",
    "    print(ff)"
   ]
  },
  {
   "cell_type": "code",
   "execution_count": null,
   "id": "2e802cd4-c6ac-414a-9abe-b902d84e9dbf",
   "metadata": {},
   "outputs": [],
   "source": [
    "for idx,row in df.iterrows():\n",
    "    if idx >0:\n",
    "        print(row.tab_nm, df.loc[idx-1,\"tab_nm\"])"
   ]
  },
  {
   "cell_type": "code",
   "execution_count": null,
   "id": "057886ea-c742-4650-be73-97668be0dd9b",
   "metadata": {},
   "outputs": [],
   "source": [
    "f_name = ''.join(df.cntnt_id) + '.html'\n",
    "with open(f'../../gpt/data/{f_name}','w') as f:\n",
    "        f.write(s)\n",
    "        print(\n",
    "        print(type(f.name.split('/')[-1]))"
   ]
  },
  {
   "cell_type": "code",
   "execution_count": null,
   "id": "cb92c344-4002-453b-ad14-6e1ed3d13446",
   "metadata": {},
   "outputs": [],
   "source": [
    "html_doc"
   ]
  },
  {
   "cell_type": "code",
   "execution_count": null,
   "id": "dcf52289-f3c9-444b-baea-453dfa5d75f6",
   "metadata": {},
   "outputs": [],
   "source": [
    "from bs4 import BeautifulSoup\n",
    "    \n",
    "html_doc = ''.join(df.contn)\n",
    "html_doc = html_header + html_doc + html_footer\n",
    "\n",
    "    \n",
    "soup = BeautifulSoup(html_doc, 'html.parser').get_text().replace('  ','')\n",
    "print(soup)\n",
    "s= soup"
   ]
  },
  {
   "cell_type": "code",
   "execution_count": null,
   "id": "6a948086-4db0-4f53-a367-c36b81b86fc0",
   "metadata": {},
   "outputs": [],
   "source": [
    "s = df[['contn']].applymap(lambda text: BeautifulSoup(text, 'html.parser').get_text())"
   ]
  },
  {
   "cell_type": "code",
   "execution_count": null,
   "id": "cb737d0b-76be-404e-bae1-c85774a01c8a",
   "metadata": {},
   "outputs": [],
   "source": [
    "s.to_clipboard()"
   ]
  },
  {
   "cell_type": "code",
   "execution_count": null,
   "id": "82eb019f-4d25-4ded-8084-eaa387a7241b",
   "metadata": {},
   "outputs": [],
   "source": [
    "!pip list"
   ]
  },
  {
   "cell_type": "code",
   "execution_count": null,
   "id": "8149707a-d51b-4deb-a203-4062e21eebaa",
   "metadata": {},
   "outputs": [],
   "source": [
    "f = open(\"ss.txt\",'w')\n",
    "f.name='ss1'"
   ]
  }
 ],
 "metadata": {
  "kernelspec": {
   "display_name": "Python 3",
   "language": "python",
   "name": "python3"
  },
  "language_info": {
   "codemirror_mode": {
    "name": "ipython",
    "version": 3
   },
   "file_extension": ".py",
   "mimetype": "text/x-python",
   "name": "python",
   "nbconvert_exporter": "python",
   "pygments_lexer": "ipython3",
   "version": "3.8.8"
  }
 },
 "nbformat": 4,
 "nbformat_minor": 5
}
